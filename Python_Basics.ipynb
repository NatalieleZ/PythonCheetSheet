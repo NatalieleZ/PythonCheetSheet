{
 "cells": [
  {
   "cell_type": "markdown",
   "metadata": {
    "collapsed": true
   },
   "source": [
    "Add Padding Around String"
   ]
  },
  {
   "cell_type": "code",
   "execution_count": 3,
   "metadata": {},
   "outputs": [],
   "source": [
    "text = 'Chapter 1'"
   ]
  },
  {
   "cell_type": "code",
   "execution_count": 7,
   "metadata": {},
   "outputs": [
    {
     "name": "stdout",
     "output_type": "stream",
     "text": [
      "           Chapter 1\nChapter 1           \n     Chapter 1      \n*****Chapter 1******\n"
     ]
    }
   ],
   "source": [
    "# Add Spaces of Padding to The Left\n",
    "print format(text, '>20')\n",
    "\n",
    "# Add Spaces of Padding to The Right\n",
    "print format(text, '<20')\n",
    "\n",
    "# Add Spaces of Padding on Each Side\n",
    "print format(text, '^20')\n",
    "\n",
    "# Add * Padding on Each Side\n",
    "print format(text, '*^20')"
   ]
  },
  {
   "cell_type": "markdown",
   "metadata": {},
   "source": [
    "All Combinations For a List of Objects"
   ]
  },
  {
   "cell_type": "code",
   "execution_count": 8,
   "metadata": {},
   "outputs": [],
   "source": [
    "# Import combinations with replacements from itertools\n",
    "from itertools import combinations_with_replacement"
   ]
  },
  {
   "cell_type": "code",
   "execution_count": 9,
   "metadata": {},
   "outputs": [],
   "source": [
    "list_of_objects = ['warplanes', 'armor', 'infantry']"
   ]
  },
  {
   "cell_type": "code",
   "execution_count": 11,
   "metadata": {},
   "outputs": [
    {
     "data": {
      "text/plain": [
       "[[('warplanes',), ('armor',), ('infantry',)],\n [('warplanes', 'warplanes'),\n  ('warplanes', 'armor'),\n  ('warplanes', 'infantry'),\n  ('armor', 'armor'),\n  ('armor', 'infantry'),\n  ('infantry', 'infantry')],\n [('warplanes', 'warplanes', 'warplanes'),\n  ('warplanes', 'warplanes', 'armor'),\n  ('warplanes', 'warplanes', 'infantry'),\n  ('warplanes', 'armor', 'armor'),\n  ('warplanes', 'armor', 'infantry'),\n  ('warplanes', 'infantry', 'infantry'),\n  ('armor', 'armor', 'armor'),\n  ('armor', 'armor', 'infantry'),\n  ('armor', 'infantry', 'infantry'),\n  ('infantry', 'infantry', 'infantry')]]"
      ]
     },
     "execution_count": 11,
     "metadata": {},
     "output_type": "execute_result"
    }
   ],
   "source": [
    "# create an empty list object to hold the results of the loop\n",
    "combinations = []\n",
    "\n",
    "# create a loop for every item in the length of list_of objects, that,\n",
    "for i in list(range(len(list_of_objects))):\n",
    "    # finds every combination (with replacement) for each object in the list\n",
    "    combinations.append(list(combinations_with_replacement(list_of_objects, i+1)))\n",
    "    \n",
    "combinations"
   ]
  },
  {
   "cell_type": "code",
   "execution_count": 12,
   "metadata": {},
   "outputs": [
    {
     "data": {
      "text/plain": [
       "[('warplanes',),\n ('armor',),\n ('infantry',),\n ('warplanes', 'warplanes'),\n ('warplanes', 'armor'),\n ('warplanes', 'infantry'),\n ('armor', 'armor'),\n ('armor', 'infantry'),\n ('infantry', 'infantry'),\n ('warplanes', 'warplanes', 'warplanes'),\n ('warplanes', 'warplanes', 'armor'),\n ('warplanes', 'warplanes', 'infantry'),\n ('warplanes', 'armor', 'armor'),\n ('warplanes', 'armor', 'infantry'),\n ('warplanes', 'infantry', 'infantry'),\n ('armor', 'armor', 'armor'),\n ('armor', 'armor', 'infantry'),\n ('armor', 'infantry', 'infantry'),\n ('infantry', 'infantry', 'infantry')]"
      ]
     },
     "execution_count": 12,
     "metadata": {},
     "output_type": "execute_result"
    }
   ],
   "source": [
    "# flatten the list of lists into just one list\n",
    "combinations = [i for row in combinations for i in row]\n",
    "combinations"
   ]
  },
  {
   "cell_type": "markdown",
   "metadata": {},
   "source": [
    "Apply Operations Over Items in a List"
   ]
  },
  {
   "cell_type": "code",
   "execution_count": 14,
   "metadata": {},
   "outputs": [
    {
     "data": {
      "text/plain": [
       "[582, 193, 492, 1020, 913, 299, 474, 337, 344]"
      ]
     },
     "execution_count": 14,
     "metadata": {},
     "output_type": "execute_result"
    }
   ],
   "source": [
    "# Method 1: map()\n",
    "battleDeaths = [482, 93, 392, 920, 813, 199, 374, 237, 244]\n",
    "\n",
    "# create a function that updates all battle deaths by adding 100\n",
    "def updated(x):\n",
    "    return x + 100\n",
    "\n",
    "# create a list that applies updated() to all elements of battleDeaths\n",
    "list(map(updated, battleDeaths))"
   ]
  },
  {
   "cell_type": "code",
   "execution_count": 15,
   "metadata": {},
   "outputs": [
    {
     "data": {
      "text/plain": [
       "[582, 193, 492, 1020, 913, 299, 474, 337, 344]"
      ]
     },
     "execution_count": 15,
     "metadata": {},
     "output_type": "execute_result"
    }
   ],
   "source": [
    "# Method 2: for x in y\n",
    "casualties = [482, 93, 392, 920, 813, 199, 374, 237, 244]\n",
    "\n",
    "# create a variable where we will put the updated casualty numbers\n",
    "casualtiesUpdated = []\n",
    "\n",
    "# create a function that for each item in casualties, adds 10\n",
    "for x in casualties:\n",
    "    casualtiesUpdated.append(x + 100)\n",
    "    \n",
    "casualtiesUpdated"
   ]
  },
  {
   "cell_type": "code",
   "execution_count": 16,
   "metadata": {},
   "outputs": [
    {
     "data": {
      "text/plain": [
       "[582, 193, 492, 1020, 913, 299, 474, 337, 344]"
      ]
     },
     "execution_count": 16,
     "metadata": {},
     "output_type": "execute_result"
    }
   ],
   "source": [
    "# Method 3: lambda functions\n",
    "list(map((lambda x: x + 100), casualties))"
   ]
  },
  {
   "cell_type": "markdown",
   "metadata": {},
   "source": [
    "Compare Two Dictionaries"
   ]
  },
  {
   "cell_type": "code",
   "execution_count": 17,
   "metadata": {},
   "outputs": [],
   "source": [
    "importers = {'El Salvador' : 1234,\n",
    "             'Nicaragua' : 152,\n",
    "             'Spain' : 252\n",
    "            }\n",
    "\n",
    "exporters = {'Spain' : 252,\n",
    "             'Germany' : 251,\n",
    "             'Italy' : 1563\n",
    "             }"
   ]
  },
  {
   "cell_type": "code",
   "execution_count": 19,
   "metadata": {},
   "outputs": [
    {
     "data": {
      "text/plain": [
       "{'Spain'}"
      ]
     },
     "execution_count": 19,
     "metadata": {},
     "output_type": "execute_result"
    }
   ],
   "source": [
    "# find dupe keys\n",
    "set(importers.keys()) & set(exporters.keys())"
   ]
  },
  {
   "cell_type": "code",
   "execution_count": 20,
   "metadata": {},
   "outputs": [
    {
     "data": {
      "text/plain": [
       "{'El Salvador', 'Nicaragua'}"
      ]
     },
     "execution_count": 20,
     "metadata": {},
     "output_type": "execute_result"
    }
   ],
   "source": [
    "# find different keys\n",
    "set(importers.keys()) - set(exporters.keys())"
   ]
  },
  {
   "cell_type": "code",
   "execution_count": 21,
   "metadata": {},
   "outputs": [
    {
     "data": {
      "text/plain": [
       "{('Spain', 252)}"
      ]
     },
     "execution_count": 21,
     "metadata": {},
     "output_type": "execute_result"
    }
   ],
   "source": [
    "# find dupe key, value pairs\n",
    "set(importers.items()) & set(exporters.items())"
   ]
  },
  {
   "cell_type": "code",
   "execution_count": null,
   "metadata": {},
   "outputs": [],
   "source": [
    ""
   ]
  }
 ],
 "metadata": {
  "kernelspec": {
   "display_name": "Python 2",
   "language": "python",
   "name": "python2"
  },
  "language_info": {
   "codemirror_mode": {
    "name": "ipython",
    "version": 2.0
   },
   "file_extension": ".py",
   "mimetype": "text/x-python",
   "name": "python",
   "nbconvert_exporter": "python",
   "pygments_lexer": "ipython2",
   "version": "2.7.6"
  }
 },
 "nbformat": 4,
 "nbformat_minor": 0
}