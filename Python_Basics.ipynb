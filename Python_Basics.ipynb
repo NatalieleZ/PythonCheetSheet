{
 "cells": [
  {
   "cell_type": "markdown",
   "metadata": {},
   "source": [
    "Data Structure"
   ]
  },
  {
   "cell_type": "markdown",
   "metadata": {},
   "source": [
    "List\n",
    "A list is a data structure that holds an ordered collection of items. you can store a sequence of items in a list\n",
    "lists are mutable"
   ]
  },
  {
   "cell_type": "markdown",
   "metadata": {},
   "source": [
    "Tuple\n",
    "Tuples are immutable, adn usually contain a heterogeneous sequence of elements that are accessed via unpacking or indexing. \n",
    "Tuples are heterogeneous daa structure (i.e. their entries have different meanings) while lists are homogeneous sequences."
   ]
  },
  {
   "cell_type": "markdown",
   "metadata": {},
   "source": [
    "dictionaries\n",
    "a dictionary is like an address-book where you can find the address or contact details of a person by knowing only his/her name i.e. we associate keys with values. Note that key must be unique"
   ]
  },
  {
   "cell_type": "markdown",
   "metadata": {},
   "source": [
    "sets\n",
    "sets are unordered collections of simple objects"
   ]
  },
  {
   "cell_type": "markdown",
   "metadata": {},
   "source": [
    "Add Padding Around String"
   ]
  },
  {
   "cell_type": "code",
   "execution_count": 3,
   "metadata": {},
   "outputs": [],
   "source": [
    "text = 'Chapter 1'"
   ]
  },
  {
   "cell_type": "code",
   "execution_count": 7,
   "metadata": {},
   "outputs": [
    {
     "name": "stdout",
     "output_type": "stream",
     "text": [
      "           Chapter 1\nChapter 1           \n     Chapter 1      \n*****Chapter 1******\n"
     ]
    }
   ],
   "source": [
    "# Add Spaces of Padding to The Left\n",
    "print format(text, '>20')\n",
    "\n",
    "# Add Spaces of Padding to The Right\n",
    "print format(text, '<20')\n",
    "\n",
    "# Add Spaces of Padding on Each Side\n",
    "print format(text, '^20')\n",
    "\n",
    "# Add * Padding on Each Side\n",
    "print format(text, '*^20')"
   ]
  },
  {
   "cell_type": "markdown",
   "metadata": {},
   "source": [
    "All Combinations For a List of Objects"
   ]
  },
  {
   "cell_type": "code",
   "execution_count": 8,
   "metadata": {},
   "outputs": [],
   "source": [
    "# Import combinations with replacements from itertools\n",
    "from itertools import combinations_with_replacement"
   ]
  },
  {
   "cell_type": "code",
   "execution_count": 9,
   "metadata": {},
   "outputs": [],
   "source": [
    "list_of_objects = ['warplanes', 'armor', 'infantry']"
   ]
  },
  {
   "cell_type": "code",
   "execution_count": 11,
   "metadata": {},
   "outputs": [
    {
     "data": {
      "text/plain": [
       "[[('warplanes',), ('armor',), ('infantry',)],\n [('warplanes', 'warplanes'),\n  ('warplanes', 'armor'),\n  ('warplanes', 'infantry'),\n  ('armor', 'armor'),\n  ('armor', 'infantry'),\n  ('infantry', 'infantry')],\n [('warplanes', 'warplanes', 'warplanes'),\n  ('warplanes', 'warplanes', 'armor'),\n  ('warplanes', 'warplanes', 'infantry'),\n  ('warplanes', 'armor', 'armor'),\n  ('warplanes', 'armor', 'infantry'),\n  ('warplanes', 'infantry', 'infantry'),\n  ('armor', 'armor', 'armor'),\n  ('armor', 'armor', 'infantry'),\n  ('armor', 'infantry', 'infantry'),\n  ('infantry', 'infantry', 'infantry')]]"
      ]
     },
     "execution_count": 11,
     "metadata": {},
     "output_type": "execute_result"
    }
   ],
   "source": [
    "# create an empty list object to hold the results of the loop\n",
    "combinations = []\n",
    "\n",
    "# create a loop for every item in the length of list_of objects, that,\n",
    "for i in list(range(len(list_of_objects))):\n",
    "    # finds every combination (with replacement) for each object in the list\n",
    "    combinations.append(list(combinations_with_replacement(list_of_objects, i+1)))\n",
    "    \n",
    "combinations"
   ]
  },
  {
   "cell_type": "code",
   "execution_count": 12,
   "metadata": {},
   "outputs": [
    {
     "data": {
      "text/plain": [
       "[('warplanes',),\n ('armor',),\n ('infantry',),\n ('warplanes', 'warplanes'),\n ('warplanes', 'armor'),\n ('warplanes', 'infantry'),\n ('armor', 'armor'),\n ('armor', 'infantry'),\n ('infantry', 'infantry'),\n ('warplanes', 'warplanes', 'warplanes'),\n ('warplanes', 'warplanes', 'armor'),\n ('warplanes', 'warplanes', 'infantry'),\n ('warplanes', 'armor', 'armor'),\n ('warplanes', 'armor', 'infantry'),\n ('warplanes', 'infantry', 'infantry'),\n ('armor', 'armor', 'armor'),\n ('armor', 'armor', 'infantry'),\n ('armor', 'infantry', 'infantry'),\n ('infantry', 'infantry', 'infantry')]"
      ]
     },
     "execution_count": 12,
     "metadata": {},
     "output_type": "execute_result"
    }
   ],
   "source": [
    "# flatten the list of lists into just one list\n",
    "combinations = [i for row in combinations for i in row]\n",
    "combinations"
   ]
  },
  {
   "cell_type": "markdown",
   "metadata": {},
   "source": [
    "Apply Operations Over Items in a List"
   ]
  },
  {
   "cell_type": "code",
   "execution_count": 14,
   "metadata": {},
   "outputs": [
    {
     "data": {
      "text/plain": [
       "[582, 193, 492, 1020, 913, 299, 474, 337, 344]"
      ]
     },
     "execution_count": 14,
     "metadata": {},
     "output_type": "execute_result"
    }
   ],
   "source": [
    "# Method 1: map()\n",
    "battleDeaths = [482, 93, 392, 920, 813, 199, 374, 237, 244]\n",
    "\n",
    "# create a function that updates all battle deaths by adding 100\n",
    "def updated(x):\n",
    "    return x + 100\n",
    "\n",
    "# create a list that applies updated() to all elements of battleDeaths\n",
    "list(map(updated, battleDeaths))"
   ]
  },
  {
   "cell_type": "code",
   "execution_count": 15,
   "metadata": {},
   "outputs": [
    {
     "data": {
      "text/plain": [
       "[582, 193, 492, 1020, 913, 299, 474, 337, 344]"
      ]
     },
     "execution_count": 15,
     "metadata": {},
     "output_type": "execute_result"
    }
   ],
   "source": [
    "# Method 2: for x in y\n",
    "casualties = [482, 93, 392, 920, 813, 199, 374, 237, 244]\n",
    "\n",
    "# create a variable where we will put the updated casualty numbers\n",
    "casualtiesUpdated = []\n",
    "\n",
    "# create a function that for each item in casualties, adds 10\n",
    "for x in casualties:\n",
    "    casualtiesUpdated.append(x + 100)\n",
    "    \n",
    "casualtiesUpdated"
   ]
  },
  {
   "cell_type": "code",
   "execution_count": 16,
   "metadata": {},
   "outputs": [
    {
     "data": {
      "text/plain": [
       "[582, 193, 492, 1020, 913, 299, 474, 337, 344]"
      ]
     },
     "execution_count": 16,
     "metadata": {},
     "output_type": "execute_result"
    }
   ],
   "source": [
    "# Method 3: lambda functions\n",
    "list(map((lambda x: x + 100), casualties))"
   ]
  },
  {
   "cell_type": "markdown",
   "metadata": {},
   "source": [
    "Compare Two Dictionaries"
   ]
  },
  {
   "cell_type": "code",
   "execution_count": 17,
   "metadata": {},
   "outputs": [],
   "source": [
    "importers = {'El Salvador' : 1234,\n",
    "             'Nicaragua' : 152,\n",
    "             'Spain' : 252\n",
    "            }\n",
    "\n",
    "exporters = {'Spain' : 252,\n",
    "             'Germany' : 251,\n",
    "             'Italy' : 1563\n",
    "             }"
   ]
  },
  {
   "cell_type": "code",
   "execution_count": 19,
   "metadata": {},
   "outputs": [
    {
     "data": {
      "text/plain": [
       "{'Spain'}"
      ]
     },
     "execution_count": 19,
     "metadata": {},
     "output_type": "execute_result"
    }
   ],
   "source": [
    "# find dupe keys\n",
    "set(importers.keys()) & set(exporters.keys())"
   ]
  },
  {
   "cell_type": "code",
   "execution_count": 20,
   "metadata": {},
   "outputs": [
    {
     "data": {
      "text/plain": [
       "{'El Salvador', 'Nicaragua'}"
      ]
     },
     "execution_count": 20,
     "metadata": {},
     "output_type": "execute_result"
    }
   ],
   "source": [
    "# find different keys\n",
    "set(importers.keys()) - set(exporters.keys())"
   ]
  },
  {
   "cell_type": "code",
   "execution_count": 21,
   "metadata": {},
   "outputs": [
    {
     "data": {
      "text/plain": [
       "{('Spain', 252)}"
      ]
     },
     "execution_count": 21,
     "metadata": {},
     "output_type": "execute_result"
    }
   ],
   "source": [
    "# find dupe key, value pairs\n",
    "set(importers.items()) & set(exporters.items())"
   ]
  },
  {
   "cell_type": "markdown",
   "metadata": {},
   "source": [
    "Continue and Break Loops"
   ]
  },
  {
   "cell_type": "code",
   "execution_count": 25,
   "metadata": {},
   "outputs": [
    {
     "name": "stdout",
     "output_type": "stream",
     "text": [
      "it is too small please start over\nit is 4! change running to false\n"
     ]
    }
   ],
   "source": [
    "import random\n",
    "\n",
    "# set running to true\n",
    "\n",
    "running = True\n",
    "\n",
    "while running:\n",
    "    \n",
    "    s = random.randint(0,5)\n",
    "    \n",
    "    if s < 3:\n",
    "        \n",
    "        print 'it is too small please start over'\n",
    "        \n",
    "    if s == 4:\n",
    "        \n",
    "        running = False\n",
    "        \n",
    "        print 'it is 4! change running to false'\n",
    "        \n",
    "    if s == 5:\n",
    "        \n",
    "        print 'it is too big, break the loop'\n",
    "        \n",
    "        break"
   ]
  },
  {
   "cell_type": "markdown",
   "metadata": {},
   "source": [
    "read and write file without pandas"
   ]
  },
  {
   "cell_type": "code",
   "execution_count": 27,
   "metadata": {},
   "outputs": [],
   "source": [
    "# create a new file and write to it\n",
    "with open('file.txt', 'w') as f:\n",
    "    f.write('This file now exists!')\n",
    "    f.close()"
   ]
  },
  {
   "cell_type": "code",
   "execution_count": 28,
   "metadata": {},
   "outputs": [],
   "source": [
    "# open file and read it\n",
    "with open('file.txt', 'r') as f:\n",
    "    data = f.read()\n",
    "    f.close()"
   ]
  },
  {
   "cell_type": "code",
   "execution_count": 29,
   "metadata": {},
   "outputs": [
    {
     "data": {
      "text/plain": [
       "'This file now exists!'"
      ]
     },
     "execution_count": 29,
     "metadata": {},
     "output_type": "execute_result"
    }
   ],
   "source": [
    "data"
   ]
  },
  {
   "cell_type": "markdown",
   "metadata": {},
   "source": [
    "find max value in a dictionary"
   ]
  },
  {
   "cell_type": "code",
   "execution_count": 31,
   "metadata": {},
   "outputs": [
    {
     "name": "stdout",
     "output_type": "stream",
     "text": [
      "(52, 'Mike')\n('Sarah', 12)\n"
     ]
    }
   ],
   "source": [
    "ages = {'John': 21,\n",
    "        'Mike': 52,\n",
    "        'Sarah': 12,\n",
    "        'Bob': 43\n",
    "       }\n",
    "\n",
    "print max(zip(ages.values(), ages.keys()))\n",
    "print max(zip(ages.keys(), ages.values()))"
   ]
  },
  {
   "cell_type": "markdown",
   "metadata": {},
   "source": [
    "#Formatting Numbers"
   ]
  },
  {
   "cell_type": "code",
   "execution_count": 32,
   "metadata": {},
   "outputs": [],
   "source": [
    "annual_revenue = 9282904.9282872782"
   ]
  },
  {
   "cell_type": "code",
   "execution_count": 33,
   "metadata": {},
   "outputs": [
    {
     "name": "stdout",
     "output_type": "stream",
     "text": [
      "9282904.93\n9,282,904.9\n9.282905e+06\n9.28E+06\n"
     ]
    }
   ],
   "source": [
    "# format rounded to two decimal places\n",
    "print format(annual_revenue, '0.2f')\n",
    "\n",
    "# format with commas and roundded to one decimal place\n",
    "print format(annual_revenue, '0,.1f')\n",
    "\n",
    "# format as scientific notation\n",
    "print format(annual_revenue, 'e')\n",
    "\n",
    "# format as scientific notation rounded to two decimals\n",
    "print format(annual_revenue, '0.2E')"
   ]
  },
  {
   "cell_type": "markdown",
   "metadata": {},
   "source": [
    "#VarArgs Parameters (i.e. unlimited number of parameter)"
   ]
  },
  {
   "cell_type": "code",
   "execution_count": 35,
   "metadata": {},
   "outputs": [],
   "source": [
    "# * denotes that all positional arguments from that point to next arg are used\n",
    "# ** denotes that all keyword arguments from that point to the next arg are used\n",
    "# *args is a tuple\n",
    "# **kwargs is a dictionary"
   ]
  },
  {
   "cell_type": "code",
   "execution_count": 37,
   "metadata": {},
   "outputs": [
    {
     "data": {
      "text/plain": [
       "166"
      ]
     },
     "execution_count": 37,
     "metadata": {},
     "output_type": "execute_result"
    }
   ],
   "source": [
    "def total(initial=5, *args, **kwargs):\n",
    "    count = initial\n",
    "    for number in args:\n",
    "        count += number\n",
    "    for key in kwargs:\n",
    "        count += kwargs[key]\n",
    "        \n",
    "    return count\n",
    "\n",
    "total(10, 1,2,3, vegetables=50, fruits=100)"
   ]
  },
  {
   "cell_type": "markdown",
   "metadata": {},
   "source": [
    "#Functions vs Generators"
   ]
  },
  {
   "cell_type": "code",
   "execution_count": 39,
   "metadata": {},
   "outputs": [
    {
     "data": {
      "text/plain": [
       "'Abe'"
      ]
     },
     "execution_count": 39,
     "metadata": {},
     "output_type": "execute_result"
    }
   ],
   "source": [
    "def function(names):\n",
    "    for name in names:\n",
    "        return name\n",
    "\n",
    "students = function(['Abe', 'Bob', 'Christina', 'Derek', 'Eleanor'])\n",
    "\n",
    "students"
   ]
  },
  {
   "cell_type": "code",
   "execution_count": 43,
   "metadata": {},
   "outputs": [
    {
     "data": {
      "text/plain": [
       "['Abe', 'Bob', 'Christina', 'Derek', 'Eleanor']"
      ]
     },
     "execution_count": 43,
     "metadata": {},
     "output_type": "execute_result"
    }
   ],
   "source": [
    "# function only ran for name in names iteration once\n",
    "# alternative 1\n",
    "\n",
    "def function(names):\n",
    "    name_list = []\n",
    "    for name in names:\n",
    "        name_list.append(name)\n",
    "    return name_list\n",
    "    \n",
    "students = function(['Abe', 'Bob', 'Christina', 'Derek', 'Eleanor'])\n",
    "\n",
    "students"
   ]
  },
  {
   "cell_type": "code",
   "execution_count": 44,
   "metadata": {},
   "outputs": [],
   "source": [
    "# alternative 2 generator\n",
    "# a generator is a function, but instead of returning the return, instead returns an iterator.\n",
    "# replace return with yield, which defines whether a function with a regular function or a generator function"
   ]
  },
  {
   "cell_type": "code",
   "execution_count": 46,
   "metadata": {},
   "outputs": [
    {
     "data": {
      "text/plain": [
       "<generator object generator at 0x108e0aaf0>"
      ]
     },
     "execution_count": 46,
     "metadata": {},
     "output_type": "execute_result"
    }
   ],
   "source": [
    "def generator(names):\n",
    "    for name in names:\n",
    "        yield name\n",
    "        \n",
    "students = generator(['Abe', 'Bob', 'Christina', 'Derek', 'Eleanor'])\n",
    "\n",
    "students"
   ]
  },
  {
   "cell_type": "code",
   "execution_count": 47,
   "metadata": {},
   "outputs": [
    {
     "data": {
      "text/plain": [
       "'Abe'"
      ]
     },
     "execution_count": 47,
     "metadata": {},
     "output_type": "execute_result"
    }
   ],
   "source": [
    "next(students)"
   ]
  },
  {
   "cell_type": "code",
   "execution_count": 49,
   "metadata": {},
   "outputs": [
    {
     "data": {
      "text/plain": [
       "'Christina'"
      ]
     },
     "execution_count": 49,
     "metadata": {},
     "output_type": "execute_result"
    }
   ],
   "source": [
    "next(students)"
   ]
  },
  {
   "cell_type": "code",
   "execution_count": 50,
   "metadata": {},
   "outputs": [
    {
     "data": {
      "text/plain": [
       "['Derek', 'Eleanor']"
      ]
     },
     "execution_count": 50,
     "metadata": {},
     "output_type": "execute_result"
    }
   ],
   "source": [
    "list(students)"
   ]
  },
  {
   "cell_type": "markdown",
   "metadata": {},
   "source": [
    "#Hard Wrap Text"
   ]
  },
  {
   "cell_type": "code",
   "execution_count": 51,
   "metadata": {},
   "outputs": [
    {
     "name": "stdout",
     "output_type": "stream",
     "text": [
      "Then there was the bad weather. It would come in\none day when the fall was over. We would have to\nshut the windows in the night against the rain and\nthe cold wind would strip the leaves from the\ntrees in the Place Contrescarpe. The leaves lay\nsodden in the rain and the wind drove the rain\nagainst the big green autobus at the terminal and\nthe Café des Amateurs was crowded and the windows\nmisted over from the heat and the smoke inside.\n"
     ]
    }
   ],
   "source": [
    "import textwrap\n",
    "\n",
    "excerpt = 'Then there was the bad weather. It would come in one day when the fall was over. We would have to shut the windows in the night against the rain and the cold wind would strip the leaves from the trees in the Place Contrescarpe. The leaves lay sodden in the rain and the wind drove the rain against the big green autobus at the terminal and the Café des Amateurs was crowded and the windows misted over from the heat and the smoke inside.'\n",
    "\n",
    "# Hard wrap the exerpt at 50 characters\n",
    "print textwrap.fill(excerpt, 50)"
   ]
  },
  {
   "cell_type": "markdown",
   "metadata": {},
   "source": [
    "#Iterate An If-else over a list"
   ]
  },
  {
   "cell_type": "code",
   "execution_count": 53,
   "metadata": {},
   "outputs": [],
   "source": [
    "word_list = ['Egypt', 'Watching', 'Eleanor']\n",
    "\n",
    "vowels = ['A', 'E', 'I', 'O', 'U']"
   ]
  },
  {
   "cell_type": "code",
   "execution_count": 54,
   "metadata": {},
   "outputs": [
    {
     "name": "stdout",
     "output_type": "stream",
     "text": [
      "Is valid\nInvalid\nIs valid\n"
     ]
    }
   ],
   "source": [
    "for word in word_list:\n",
    "    if any([word.startswith(e) for e in vowels]):\n",
    "        print 'Is valid'\n",
    "        \n",
    "    else:\n",
    "        print 'Invalid'"
   ]
  },
  {
   "cell_type": "markdown",
   "metadata": {},
   "source": [
    "#Iterate over multiple lists simultaneously"
   ]
  },
  {
   "cell_type": "code",
   "execution_count": 55,
   "metadata": {},
   "outputs": [],
   "source": [
    "names = ['James', 'Bob', 'Sarah', 'Marco', 'Nancy', 'Sally']\n",
    "ages = [42, 13, 14, 25, 63, 23]"
   ]
  },
  {
   "cell_type": "code",
   "execution_count": 56,
   "metadata": {},
   "outputs": [
    {
     "name": "stdout",
     "output_type": "stream",
     "text": [
      "James 42\nBob 13\nSarah 14\nMarco 25\nNancy 63\nSally 23\n"
     ]
    }
   ],
   "source": [
    "for name, age in zip(names, ages):\n",
    "    print name, age"
   ]
  },
  {
   "cell_type": "markdown",
   "metadata": {},
   "source": [
    "#Dictionary Comprehension"
   ]
  },
  {
   "cell_type": "code",
   "execution_count": 57,
   "metadata": {},
   "outputs": [
    {
     "data": {
      "text/plain": [
       "{'Chris Jefferson': 'Orange Army',\n 'Jessica Billars': 'Green Army',\n 'Michael Mulligan': 'Red Army',\n 'Sodoni Dogla': 'Purple Army',\n 'Steven Johnson': 'Blue Army'}"
      ]
     },
     "execution_count": 57,
     "metadata": {},
     "output_type": "execute_result"
    }
   ],
   "source": [
    "Officers = {'Michael Mulligan': 'Red Army',\n",
    "            'Steven Johnson': 'Blue Army',\n",
    "            'Jessica Billars': 'Green Army',\n",
    "            'Sodoni Dogla': 'Purple Army',\n",
    "            'Chris Jefferson': 'Orange Army'}\n",
    "Officers"
   ]
  },
  {
   "cell_type": "code",
   "execution_count": 58,
   "metadata": {},
   "outputs": [
    {
     "data": {
      "text/plain": [
       "{'Jessica Billars': 'Green Army',\n 'Michael Mulligan': 'Red Army',\n 'Sodoni Dogla': 'Purple Army',\n 'Steven Johnson': 'Blue Army'}"
      ]
     },
     "execution_count": 58,
     "metadata": {},
     "output_type": "execute_result"
    }
   ],
   "source": [
    "{keys : Officers[keys] for keys in Officers if not keys.startswith('Chris')}"
   ]
  },
  {
   "cell_type": "code",
   "execution_count": null,
   "metadata": {},
   "outputs": [],
   "source": [
    ""
   ]
  }
 ],
 "metadata": {
  "kernelspec": {
   "display_name": "Python 2",
   "language": "python",
   "name": "python2"
  },
  "language_info": {
   "codemirror_mode": {
    "name": "ipython",
    "version": 2.0
   },
   "file_extension": ".py",
   "mimetype": "text/x-python",
   "name": "python",
   "nbconvert_exporter": "python",
   "pygments_lexer": "ipython2",
   "version": "2.7.6"
  }
 },
 "nbformat": 4,
 "nbformat_minor": 0
}