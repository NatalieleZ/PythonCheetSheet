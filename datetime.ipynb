{
 "cells": [
  {
   "cell_type": "markdown",
   "metadata": {
    "collapsed": true
   },
   "source": [
    "converting strings to datetime"
   ]
  },
  {
   "cell_type": "code",
   "execution_count": 2,
   "metadata": {},
   "outputs": [],
   "source": [
    "from datetime import datetime\n",
    "from dateutil.parser import parse\n",
    "import pandas as pd"
   ]
  },
  {
   "cell_type": "code",
   "execution_count": 5,
   "metadata": {},
   "outputs": [],
   "source": [
    "war_start = '2011-01-03'\n",
    "attack_dates = ['7/2/2011', '8/6/2012', '11/13/2013', '5/26/2011', '5/2/2001']"
   ]
  },
  {
   "cell_type": "code",
   "execution_count": 4,
   "metadata": {},
   "outputs": [
    {
     "data": {
      "text/plain": [
       "datetime.datetime(2011, 1, 3, 0, 0)"
      ]
     },
     "execution_count": 4,
     "metadata": {},
     "output_type": "execute_result"
    }
   ],
   "source": [
    "# convert the string to datetime format\n",
    "datetime.strptime(war_start, '%Y-%m-%d')"
   ]
  },
  {
   "cell_type": "code",
   "execution_count": 7,
   "metadata": {},
   "outputs": [
    {
     "data": {
      "text/plain": [
       "[datetime.datetime(2011, 7, 2, 0, 0),\n datetime.datetime(2012, 8, 6, 0, 0),\n datetime.datetime(2013, 11, 13, 0, 0),\n datetime.datetime(2011, 5, 26, 0, 0),\n datetime.datetime(2001, 5, 2, 0, 0)]"
      ]
     },
     "execution_count": 7,
     "metadata": {},
     "output_type": "execute_result"
    }
   ],
   "source": [
    "# convert attack_dates strings into datetime format\n",
    "[datetime.strptime(x, '%m/%d/%Y') for x in attack_dates]"
   ]
  },
  {
   "cell_type": "code",
   "execution_count": 11,
   "metadata": {},
   "outputs": [
    {
     "name": "stdout",
     "output_type": "stream",
     "text": [
      "2011-01-03 00:00:00\n[datetime.datetime(2011, 7, 2, 0, 0), datetime.datetime(2012, 8, 6, 0, 0), datetime.datetime(2013, 11, 13, 0, 0), datetime.datetime(2011, 5, 26, 0, 0), datetime.datetime(2001, 5, 2, 0, 0)]\n"
     ]
    }
   ],
   "source": [
    "# use parse() to auto-convert common string formats\n",
    "print parse(war_start)\n",
    "print [parse(x) for x in attack_dates]"
   ]
  },
  {
   "cell_type": "code",
   "execution_count": 12,
   "metadata": {},
   "outputs": [
    {
     "name": "stdout",
     "output_type": "stream",
     "text": [
      "                         date  value\n0  2014-05-01 18:47:05.069722      1\n1  2014-05-01 18:47:05.119994      1\n2  2014-05-02 18:47:05.178768      1\n3  2014-05-02 18:47:05.230071      1\n4  2014-05-02 18:47:05.230071      1\n5  2014-05-02 18:47:05.280592      1\n6  2014-05-03 18:47:05.332662      1\n7  2014-05-03 18:47:05.385109      1\n8  2014-05-04 18:47:05.436523      1\n9  2014-05-04 18:47:05.486877      1\n"
     ]
    }
   ],
   "source": [
    "# convert datetime in dataframe\n",
    "data = {'date': ['2014-05-01 18:47:05.069722', '2014-05-01 18:47:05.119994', '2014-05-02 18:47:05.178768', '2014-05-02 18:47:05.230071', '2014-05-02 18:47:05.230071', '2014-05-02 18:47:05.280592', '2014-05-03 18:47:05.332662', '2014-05-03 18:47:05.385109', '2014-05-04 18:47:05.436523', '2014-05-04 18:47:05.486877'], \n",
    "        'value': [1, 1, 1, 1, 1, 1, 1, 1, 1, 1]}\n",
    "df = pd.DataFrame(data, columns = ['date', 'value'])\n",
    "print(df)"
   ]
  },
  {
   "cell_type": "code",
   "execution_count": 13,
   "metadata": {},
   "outputs": [
    {
     "data": {
      "text/plain": [
       "0   2014-05-01 18:47:05.069722\n1   2014-05-01 18:47:05.119994\n2   2014-05-02 18:47:05.178768\n3   2014-05-02 18:47:05.230071\n4   2014-05-02 18:47:05.230071\n5   2014-05-02 18:47:05.280592\n6   2014-05-03 18:47:05.332662\n7   2014-05-03 18:47:05.385109\n8   2014-05-04 18:47:05.436523\n9   2014-05-04 18:47:05.486877\nName: date, dtype: datetime64[ns]"
      ]
     },
     "execution_count": 13,
     "metadata": {},
     "output_type": "execute_result"
    }
   ],
   "source": [
    "pd.to_datetime(df['date'])"
   ]
  },
  {
   "cell_type": "code",
   "execution_count": null,
   "metadata": {},
   "outputs": [],
   "source": [
    ""
   ]
  }
 ],
 "metadata": {
  "kernelspec": {
   "display_name": "Python 2",
   "language": "python",
   "name": "python2"
  },
  "language_info": {
   "codemirror_mode": {
    "name": "ipython",
    "version": 2.0
   },
   "file_extension": ".py",
   "mimetype": "text/x-python",
   "name": "python",
   "nbconvert_exporter": "python",
   "pygments_lexer": "ipython2",
   "version": "2.7.6"
  }
 },
 "nbformat": 4,
 "nbformat_minor": 0
}