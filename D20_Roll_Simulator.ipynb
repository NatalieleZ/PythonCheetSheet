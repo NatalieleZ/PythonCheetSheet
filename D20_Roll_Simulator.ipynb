{
 "cells": [
  {
   "cell_type": "code",
   "execution_count": 2,
   "metadata": {
    "collapsed": true
   },
   "outputs": [],
   "source": [
    "import random"
   ]
  },
  {
   "cell_type": "code",
   "execution_count": 3,
   "metadata": {},
   "outputs": [],
   "source": [
    "# create a variable with a TRUE value\n",
    "rolling = True"
   ]
  },
  {
   "cell_type": "code",
   "execution_count": 4,
   "metadata": {},
   "outputs": [
    {
     "name": "stdout",
     "output_type": "stream",
     "text": [
      "Try again\nTry again\nTry again\nTry again\nTry again\nTry again\nTry again\nTry again\nTry again\nTry again\nTry again\nTry again\nTry again\nTry again\nTry again\nTry again\nTry again\nTry again\nTry again\nTry again\nTry again\nTry again\nTry again\nTry again\nTry again\nTry again\nTry again\nTry again\nTry again\nTry again\nTry again\nTry again\nTry again\nTry again\nTry again\nTry again\nTry again\nTry again\nTry again\nTry again\nTry again\nTry again\nTry again\nTry again\nTry again\nTry again\nTry again\nTry again\nYou rolled a 09.\n"
     ]
    }
   ],
   "source": [
    "# create a while loop that rolls until the first digit is 2 or less and the second digit is 10 or less\n",
    "\n",
    "# while rolling is true\n",
    "while rolling:\n",
    "    \n",
    "    x = random.randint(0, 99)\n",
    "    y = random.randint(0, 99)\n",
    "    \n",
    "    if x < 2 and 0 < y < 10:\n",
    "        \n",
    "        print 'You rolled a {}{}.'.format(x, y)\n",
    "        \n",
    "        rolling = False\n",
    "        \n",
    "    else:\n",
    "         print 'Try again'"
   ]
  },
  {
   "cell_type": "code",
   "execution_count": null,
   "metadata": {},
   "outputs": [],
   "source": [
    ""
   ]
  }
 ],
 "metadata": {
  "kernelspec": {
   "display_name": "Python 2",
   "language": "python",
   "name": "python2"
  },
  "language_info": {
   "codemirror_mode": {
    "name": "ipython",
    "version": 2.0
   },
   "file_extension": ".py",
   "mimetype": "text/x-python",
   "name": "python",
   "nbconvert_exporter": "python",
   "pygments_lexer": "ipython2",
   "version": "2.7.6"
  }
 },
 "nbformat": 4,
 "nbformat_minor": 0
}